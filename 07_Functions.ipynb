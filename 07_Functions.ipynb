{
  "nbformat": 4,
  "nbformat_minor": 0,
  "metadata": {
    "colab": {
      "name": "07 Functions.ipynb",
      "provenance": [],
      "collapsed_sections": []
    },
    "kernelspec": {
      "name": "python3",
      "display_name": "Python 3"
    }
  },
  "cells": [
    {
      "cell_type": "markdown",
      "metadata": {
        "id": "QBZVPYVIQ5q5"
      },
      "source": [
        "<img src=\"https://d24cdstip7q8pz.cloudfront.net/t/ineuron1/content/common/images/final%20logo.png\" height=60 alt-text=\"iNeuron.ai logo\">"
      ]
    },
    {
      "cell_type": "markdown",
      "metadata": {
        "id": "vT4GIszkI4_H"
      },
      "source": [
        "## 07 Functions\n",
        "\n",
        "- **Definition**: Function are nothing but a block of code which performs a specific task and can be called again and again as per requirement in the code.\n",
        "- A generic way to write a simple function is shown below-\n",
        "```python\n",
        "def function_name():\n",
        "    # function body starts\n",
        "    pass\n",
        "    # function body ends\n",
        "# calling function in the code -\n",
        "function_name() \n",
        "```\n",
        "\n",
        "- **DRY**: It stands for **D**o not **R**epeat **Y**ourself. It means that a good generally should not contain repeated blocks of code. So if you observe in your code repeatition of certain lines of code then you can also make it a function and call as per your requirement. Let's see an example below-"
      ]
    },
    {
      "cell_type": "markdown",
      "metadata": {
        "id": "8fvQMOEhhRxA"
      },
      "source": [
        "### 7.1 A simple function definition\n",
        "**EXAMPLE:**"
      ]
    },
    {
      "cell_type": "code",
      "metadata": {
        "id": "D3UIkgvfIcnc"
      },
      "source": [
        "def function_name():\n",
        "    # function body starts\n",
        "    pass\n",
        "    # function body ends\n",
        "\n",
        "# calling function in the code -\n",
        "function_name() "
      ],
      "execution_count": null,
      "outputs": []
    },
    {
      "cell_type": "markdown",
      "metadata": {
        "id": "YKENVJ23jQBW"
      },
      "source": [
        "**EXAMPLE:**"
      ]
    },
    {
      "cell_type": "code",
      "metadata": {
        "id": "_fn4N0q6ilXw",
        "colab": {
          "base_uri": "https://localhost:8080/",
          "height": 34
        },
        "outputId": "4017496c-8f60-40d6-f835-1432e504638d"
      },
      "source": [
        "def greetings():\n",
        "    print(\"Hi there from iNeuron\")\n",
        "\n",
        "# calling greeting function in the code -\n",
        "greetings() "
      ],
      "execution_count": null,
      "outputs": [
        {
          "output_type": "stream",
          "text": [
            "Hi there from iNeuron\n"
          ],
          "name": "stdout"
        }
      ]
    },
    {
      "cell_type": "markdown",
      "metadata": {
        "id": "5dCMlQemuQgP"
      },
      "source": [
        "- We can also pass some values to the function. These values are known as arguments.A function can have following kind of arguments -\n",
        "    - 1. Key word arguments: Here we define the name of arguments"
      ]
    },
    {
      "cell_type": "markdown",
      "metadata": {
        "id": "zVRSSqeRjcq3"
      },
      "source": [
        "**EXAMPLE**:\n",
        "Observe the below code from Expressions, Operators, and Precedence Chapter- "
      ]
    },
    {
      "cell_type": "code",
      "metadata": {
        "id": "ZD9AXQoJjN3K",
        "colab": {
          "base_uri": "https://localhost:8080/",
          "height": 298
        },
        "outputId": "0c39c5b1-4e2b-4a01-9a2e-d623555eb29e"
      },
      "source": [
        "# Block One\n",
        "BIKE = True\n",
        "CAR = True\n",
        "TRAVEL_100_KM = BIKE or CAR\n",
        "\n",
        "print(f\"You have BIKE: {BIKE}\")\n",
        "print(f\"You have CAR: {CAR}\")\n",
        "print(f\"You can travel 100 KMs: {TRAVEL_100_KM}\\n\")\n",
        "\n",
        "\n",
        "# Block Two\n",
        "BIKE = True\n",
        "CAR = False\n",
        "TRAVEL_100_KM = BIKE or CAR\n",
        "\n",
        "print(f\"You have BIKE: {BIKE}\")\n",
        "print(f\"You have CAR: {CAR}\")\n",
        "print(f\"You can travel 100 KMs: {TRAVEL_100_KM}\\n\")\n",
        "\n",
        "# Block Three\n",
        "BIKE = False\n",
        "CAR = True\n",
        "TRAVEL_100_KM = BIKE or CAR\n",
        "\n",
        "print(f\"You have BIKE: {BIKE}\")\n",
        "print(f\"You have CAR: {CAR}\")\n",
        "print(f\"You can travel 100 KMs: {TRAVEL_100_KM}\\n\")\n",
        "\n",
        "# Block Four\n",
        "BIKE = False\n",
        "CAR = False\n",
        "TRAVEL_100_KM = BIKE or CAR\n",
        "\n",
        "print(f\"You have BIKE: {BIKE}\")\n",
        "print(f\"You have CAR: {CAR}\")\n",
        "print(f\"You can travel 100 KMs: {TRAVEL_100_KM}\\n\")"
      ],
      "execution_count": null,
      "outputs": [
        {
          "output_type": "stream",
          "text": [
            "You have BIKE: True\n",
            "You have CAR: True\n",
            "You can travel 100 KMs: True\n",
            "\n",
            "You have BIKE: True\n",
            "You have CAR: False\n",
            "You can travel 100 KMs: True\n",
            "\n",
            "You have BIKE: False\n",
            "You have CAR: True\n",
            "You can travel 100 KMs: True\n",
            "\n",
            "You have BIKE: False\n",
            "You have CAR: False\n",
            "You can travel 100 KMs: False\n",
            "\n"
          ],
          "name": "stdout"
        }
      ]
    },
    {
      "cell_type": "markdown",
      "metadata": {
        "id": "gqaG1lkFvDal"
      },
      "source": [
        "**EXAMPLE**:\n",
        "So above codes are repetetive. Now lets observe the below code which will give the same results as shown above but in avery less line of code. -"
      ]
    },
    {
      "cell_type": "code",
      "metadata": {
        "id": "ZZc_2LFCvCQ4",
        "colab": {
          "base_uri": "https://localhost:8080/",
          "height": 298
        },
        "outputId": "98fa6a10-9086-4f16-bee9-1dd19c62050b"
      },
      "source": [
        "def travel_or_not(BIKE, CAR):\n",
        "    TRAVEL_100_KM = BIKE or CAR\n",
        "\n",
        "    print(f\"You have BIKE: {BIKE}\")\n",
        "    print(f\"You have CAR: {CAR}\")\n",
        "    print(f\"You can travel 100 KMs: {TRAVEL_100_KM}\\n\")\n",
        "\n",
        "travel_or_not(False, False)\n",
        "\n",
        "travel_or_not(False, True)\n",
        "\n",
        "travel_or_not(True, False)\n",
        "\n",
        "travel_or_not(True, True)\n"
      ],
      "execution_count": null,
      "outputs": [
        {
          "output_type": "stream",
          "text": [
            "You have BIKE: False\n",
            "You have CAR: False\n",
            "You can travel 100 KMs: False\n",
            "\n",
            "You have BIKE: False\n",
            "You have CAR: True\n",
            "You can travel 100 KMs: True\n",
            "\n",
            "You have BIKE: True\n",
            "You have CAR: False\n",
            "You can travel 100 KMs: True\n",
            "\n",
            "You have BIKE: True\n",
            "You have CAR: True\n",
            "You can travel 100 KMs: True\n",
            "\n"
          ],
          "name": "stdout"
        }
      ]
    },
    {
      "cell_type": "markdown",
      "metadata": {
        "id": "OVLcxCoxv8Sk"
      },
      "source": [
        "**EXAMPLE**:\n",
        "Lets make it more concise using a for loop and remove the repetition-"
      ]
    },
    {
      "cell_type": "code",
      "metadata": {
        "id": "jT2_Zy-Kvt2N",
        "colab": {
          "base_uri": "https://localhost:8080/",
          "height": 298
        },
        "outputId": "fcfc8c5e-c675-4a35-be9e-a2275da4c78a"
      },
      "source": [
        "def travel_or_not(BIKE, CAR):\n",
        "    TRAVEL_100_KM = BIKE or CAR\n",
        "\n",
        "    print(f\"You have BIKE: {BIKE}\")\n",
        "    print(f\"You have CAR: {CAR}\")\n",
        "    print(f\"You can travel 100 KMs: {TRAVEL_100_KM}\\n\")\n",
        "    \n",
        "BIKE = [False, False, True, True]\n",
        "CAR = [False, True,False, True]\n",
        "\n",
        "for bike, car in zip(BIKE, CAR):\n",
        "    travel_or_not(bike, car)"
      ],
      "execution_count": null,
      "outputs": [
        {
          "output_type": "stream",
          "text": [
            "You have BIKE: False\n",
            "You have CAR: False\n",
            "You can travel 100 KMs: False\n",
            "\n",
            "You have BIKE: False\n",
            "You have CAR: True\n",
            "You can travel 100 KMs: True\n",
            "\n",
            "You have BIKE: True\n",
            "You have CAR: False\n",
            "You can travel 100 KMs: True\n",
            "\n",
            "You have BIKE: True\n",
            "You have CAR: True\n",
            "You can travel 100 KMs: True\n",
            "\n"
          ],
          "name": "stdout"
        }
      ]
    },
    {
      "cell_type": "markdown",
      "metadata": {
        "id": "4If023q33yuz"
      },
      "source": [
        "### 7.2 Default Arguments\n",
        "\n",
        "**EXAMPLE**:\n",
        "Let's see a different varient of above code. You can also define a default value of the arguments which will be utilized when no argument is passed. as shown below -\n"
      ]
    },
    {
      "cell_type": "code",
      "metadata": {
        "id": "3UQLjrUdwf3R",
        "colab": {
          "base_uri": "https://localhost:8080/",
          "height": 87
        },
        "outputId": "d378e4a9-aa79-4e70-df01-e955d23a55cc"
      },
      "source": [
        "def travel_or_not(BIKE=True, CAR=False):\n",
        "    TRAVEL_100_KM = BIKE or CAR\n",
        "\n",
        "    print(f\"You have BIKE: {BIKE}\")\n",
        "    print(f\"You have CAR: {CAR}\")\n",
        "    print(f\"You can travel 100 KMs: {TRAVEL_100_KM}\\n\")\n",
        "\n",
        "\n",
        "travel_or_not()"
      ],
      "execution_count": null,
      "outputs": [
        {
          "output_type": "stream",
          "text": [
            "You have BIKE: True\n",
            "You have CAR: False\n",
            "You can travel 100 KMs: True\n",
            "\n"
          ],
          "name": "stdout"
        }
      ]
    },
    {
      "cell_type": "code",
      "metadata": {
        "id": "dw1mX_Z94jEW",
        "colab": {
          "base_uri": "https://localhost:8080/",
          "height": 87
        },
        "outputId": "88eb3dd6-3abf-40cf-c4ec-0cdee1bd2e14"
      },
      "source": [
        "def travel_or_not(BIKE=True, CAR=False):\n",
        "    TRAVEL_100_KM = BIKE or CAR\n",
        "\n",
        "    print(f\"You have BIKE: {BIKE}\")\n",
        "    print(f\"You have CAR: {CAR}\")\n",
        "    print(f\"You can travel 100 KMs: {TRAVEL_100_KM}\\n\")\n",
        "\n",
        "\n",
        "travel_or_not(False, True) # overriding the default arguments value by passing our value"
      ],
      "execution_count": null,
      "outputs": [
        {
          "output_type": "stream",
          "text": [
            "You have BIKE: False\n",
            "You have CAR: True\n",
            "You can travel 100 KMs: True\n",
            "\n"
          ],
          "name": "stdout"
        }
      ]
    },
    {
      "cell_type": "markdown",
      "metadata": {
        "id": "cFcCwhWa46rk"
      },
      "source": [
        "**EXAMPLE**: \n",
        "Here ```None``` gets printed if we try to print the ouput of the given function because it is not returning any value. Its just printing ther results."
      ]
    },
    {
      "cell_type": "code",
      "metadata": {
        "id": "nPMWsQTu410Z",
        "colab": {
          "base_uri": "https://localhost:8080/",
          "height": 140
        },
        "outputId": "04d2bf16-c350-45c3-9537-55b1da538e1c"
      },
      "source": [
        "result = travel_or_not(False, True)\n",
        "print(f\"\\nresults:-\\n{result}\")"
      ],
      "execution_count": null,
      "outputs": [
        {
          "output_type": "stream",
          "text": [
            "You have BIKE: False\n",
            "You have CAR: True\n",
            "You can travel 100 KMs: True\n",
            "\n",
            "\n",
            "results:-\n",
            "None\n"
          ],
          "name": "stdout"
        }
      ]
    },
    {
      "cell_type": "markdown",
      "metadata": {
        "id": "O1BzNPzw4Wf_"
      },
      "source": [
        "### 7.3 Return statement\n",
        "\n",
        "**EXAMPLE**:\n",
        "In some cases you'd like to return some value from a function. So for that we use a return keyword to return the results as show below-"
      ]
    },
    {
      "cell_type": "code",
      "metadata": {
        "id": "yO8X2hwM4K_E",
        "colab": {
          "base_uri": "https://localhost:8080/",
          "height": 122
        },
        "outputId": "7e4ae7d9-65a8-45f9-f224-a05a8bed1102"
      },
      "source": [
        "def travel_or_not(BIKE=True, CAR=False):\n",
        "    TRAVEL_100_KM = BIKE or CAR\n",
        "\n",
        "    print(f\"You have BIKE: {BIKE}\")\n",
        "    print(f\"You have CAR: {CAR}\")\n",
        "    return f\"You can travel 100 KMs: {TRAVEL_100_KM}\\n\"\n",
        "\n",
        "\n",
        "result = travel_or_not(False, True)\n",
        "print(f\"\\nresults:-\\n{result}\")"
      ],
      "execution_count": null,
      "outputs": [
        {
          "output_type": "stream",
          "text": [
            "You have BIKE: False\n",
            "You have CAR: True\n",
            "\n",
            "results:-\n",
            "You can travel 100 KMs: True\n",
            "\n"
          ],
          "name": "stdout"
        }
      ]
    },
    {
      "cell_type": "markdown",
      "metadata": {
        "id": "49sCSt0a6FeZ"
      },
      "source": [
        "**EXAMPLE**:\n",
        "You can also return multiple values as show below -"
      ]
    },
    {
      "cell_type": "code",
      "metadata": {
        "id": "RKkSF4954fxV",
        "colab": {
          "base_uri": "https://localhost:8080/",
          "height": 87
        },
        "outputId": "cd43a201-b05c-46c5-fe89-d8efbb51a16c"
      },
      "source": [
        "def travel_or_not(BIKE=True, CAR=False):\n",
        "    TRAVEL_100_KM = BIKE or CAR\n",
        "\n",
        "    return BIKE, CAR, TRAVEL_100_KM\n",
        "\n",
        "\n",
        "result1, result2, result3 = travel_or_not(False, True)\n",
        "print(f\"You have BIKE: {result1}\")\n",
        "print(f\"You have CAR: {result2}\")\n",
        "print(f\"You can travel 100 KMs: {result3}\\n\")"
      ],
      "execution_count": null,
      "outputs": [
        {
          "output_type": "stream",
          "text": [
            "You have BIKE: False\n",
            "You have CAR: True\n",
            "You can travel 100 KMs: True\n",
            "\n"
          ],
          "name": "stdout"
        }
      ]
    },
    {
      "cell_type": "markdown",
      "metadata": {
        "id": "LwhQ3ZkXbghp"
      },
      "source": [
        "### 7.4 Variable length args\n",
        "\n",
        "**EXAMPLE**:\n",
        "At some point there may be chance that you don't know how many args that you should pass. Lets check the example below -"
      ]
    },
    {
      "cell_type": "code",
      "metadata": {
        "id": "nm2ZWbb76wlF",
        "colab": {
          "base_uri": "https://localhost:8080/",
          "height": 52
        },
        "outputId": "a7ee2617-bc6d-475a-c841-25fadf424407"
      },
      "source": [
        "def branch_and_subjects_in_graduation(*args, branch):\n",
        "    print(f\"My branch was {branch}\")\n",
        "    return f\"I liked these subjects in graduation {args}\"\n",
        "\n",
        "results = branch_and_subjects_in_graduation(\"Digital Image Processing\", \"Microprocessor\", branch=\"Electronics engineering\")\n",
        "print(results)"
      ],
      "execution_count": null,
      "outputs": [
        {
          "output_type": "stream",
          "text": [
            "My branch was Electronics engineering\n",
            "I liked these subjects in graduation ('Digital Image Processing', 'Microprocessor')\n"
          ],
          "name": "stdout"
        }
      ]
    },
    {
      "cell_type": "code",
      "metadata": {
        "id": "NXXxJmi8cLUR",
        "colab": {
          "base_uri": "https://localhost:8080/",
          "height": 52
        },
        "outputId": "844ca67d-9145-450f-bdfb-ace601041956"
      },
      "source": [
        "def branch_and_subjects_in_graduation(*args, branch=\"Electronics engineering\"):\n",
        "    print(f\"My branch was {branch}\")\n",
        "    return f\"I liked these subjects in graduation {args}\"\n",
        "\n",
        "results = branch_and_subjects_in_graduation(\"Digital Image Processing\", \"Microprocessor\")\n",
        "print(results)"
      ],
      "execution_count": null,
      "outputs": [
        {
          "output_type": "stream",
          "text": [
            "My branch was Electronics engineering\n",
            "I liked these subjects in graduation ('Digital Image Processing', 'Microprocessor')\n"
          ],
          "name": "stdout"
        }
      ]
    },
    {
      "cell_type": "markdown",
      "metadata": {
        "id": "Dh0d8gc9KEj2"
      },
      "source": [
        "### 7.5 Variable length keyword args\n",
        "\n",
        "**EXAMPLE**:\n",
        "Some times we need varying keyword arguments as shown below-"
      ]
    },
    {
      "cell_type": "code",
      "metadata": {
        "id": "-eAm8jZXd3NH",
        "colab": {
          "base_uri": "https://localhost:8080/",
          "height": 34
        },
        "outputId": "49c5def3-c560-4759-9d9b-3fb10f1e4b72"
      },
      "source": [
        "def marks_in_subjects_of_semester(**kwargs):\n",
        "    print(kwargs)\n",
        "\n",
        "marks_in_subjects_of_semester(Digital_Image_Processing = 78, Microprocessor= 79, Signals_and_systems=83)"
      ],
      "execution_count": null,
      "outputs": [
        {
          "output_type": "stream",
          "text": [
            "{'Digital_Image_Processing': 78, 'Microprocessor': 79, 'Signals_and_systems': 83}\n"
          ],
          "name": "stdout"
        }
      ]
    },
    {
      "cell_type": "code",
      "metadata": {
        "id": "U0Qp8F3TKxA8",
        "colab": {
          "base_uri": "https://localhost:8080/",
          "height": 70
        },
        "outputId": "18f63c34-bcdd-4153-a324-b1f577fef8f6"
      },
      "source": [
        "def marks_in_subjects_of_semester(**kwargs):\n",
        "    for subject, marks in kwargs.items():\n",
        "        print(f\"Score in {subject} = {marks}\")\n",
        "\n",
        "marks_in_subjects_of_semester(Digital_Image_Processing = 78, Microprocessor= 79, Signals_and_systems=83)"
      ],
      "execution_count": null,
      "outputs": [
        {
          "output_type": "stream",
          "text": [
            "Score in Digital_Image_Processing = 78\n",
            "Score in Microprocessor = 79\n",
            "Score in Signals_and_systems = 83\n"
          ],
          "name": "stdout"
        }
      ]
    },
    {
      "cell_type": "markdown",
      "metadata": {
        "id": "zGhIjY4wLPdO"
      },
      "source": [
        "### 7.6 Functions inside functions -\n",
        "**EXAMPLE**:"
      ]
    },
    {
      "cell_type": "code",
      "metadata": {
        "id": "Gj8AiIstLDsd",
        "colab": {
          "base_uri": "https://localhost:8080/",
          "height": 105
        },
        "outputId": "7281742a-94e0-4bb6-c016-bfe521bccade"
      },
      "source": [
        "def marks_in_subjects_of_semester(**kwargs):\n",
        "    def total_marks(marks_list):\n",
        "        return sum(marks_list)\n",
        "    \n",
        "    marks_list = list()\n",
        "    for subject, marks in kwargs.items():\n",
        "        marks_list.append(marks)\n",
        "        print(f\"Score in {subject} = {marks}\")\n",
        "    \n",
        "    return total_marks(marks_list)\n",
        "\n",
        "results = marks_in_subjects_of_semester(Digital_Image_Processing = 78, Microprocessor= 79, Signals_and_systems=83)\n",
        "\n",
        "print(f\"\\ntotal marks obtained {results}\")"
      ],
      "execution_count": null,
      "outputs": [
        {
          "output_type": "stream",
          "text": [
            "Score in Digital_Image_Processing = 78\n",
            "Score in Microprocessor = 79\n",
            "Score in Signals_and_systems = 83\n",
            "\n",
            "total marks obtained 240\n"
          ],
          "name": "stdout"
        }
      ]
    },
    {
      "cell_type": "markdown",
      "metadata": {
        "id": "1fPdPbr2arGm"
      },
      "source": [
        "### 7.7 Anonymous Function or Lambda Function\n",
        "\n",
        "**EXAMPLE**: Lets convert below example into a onliner or lambda function"
      ]
    },
    {
      "cell_type": "markdown",
      "metadata": {
        "id": "t0t-QK1KbIqB"
      },
      "source": [
        "```python\n",
        "def travel_or_not(BIKE=True, CAR=False):\n",
        "    TRAVEL_100_KM = BIKE or CAR\n",
        "\n",
        "    print(f\"You have BIKE: {BIKE}\")\n",
        "    print(f\"You have CAR: {CAR}\")\n",
        "    return f\"You can travel 100 KMs: {TRAVEL_100_KM}\\n\"\n",
        "\n",
        "\n",
        "result = travel_or_not(False, True)\n",
        "print(f\"\\nresults:-\\n{result}\")\n",
        "```"
      ]
    },
    {
      "cell_type": "code",
      "metadata": {
        "id": "H7NOHoK2O9Xl",
        "colab": {
          "base_uri": "https://localhost:8080/",
          "height": 89
        },
        "outputId": "a089f571-6009-4d46-eb44-2af6dcd507b0"
      },
      "source": [
        "BIKE=True\n",
        "CAR=False\n",
        "\n",
        "result = lambda BIKE, CAR: f\"You can travel 100 KMs: {BIKE or CAR}\\n\"\n",
        "print(f\"\\nresults:-\\n{result(BIKE, CAR)}\")"
      ],
      "execution_count": null,
      "outputs": [
        {
          "output_type": "stream",
          "text": [
            "\n",
            "results:-\n",
            "You can travel 100 KMs: True\n",
            "\n"
          ],
          "name": "stdout"
        }
      ]
    },
    {
      "cell_type": "markdown",
      "metadata": {
        "id": "km5laIO9b85P"
      },
      "source": [
        "**EXAMPLE**\n",
        "Lets make a lambda function that returns power of an input no. It takes power and number as an input"
      ]
    },
    {
      "cell_type": "code",
      "metadata": {
        "id": "2OCQhMhwbuaT",
        "colab": {
          "base_uri": "https://localhost:8080/",
          "height": 35
        },
        "outputId": "4be5414e-7c50-4062-e2a5-b27eac047f20"
      },
      "source": [
        "number = 5\n",
        "power = 3\n",
        "result = lambda number, power: number**power\n",
        "\n",
        "print(f\"{number} to the power of {power} is {result(number, power)}\")"
      ],
      "execution_count": null,
      "outputs": [
        {
          "output_type": "stream",
          "text": [
            "5 to the power of 3 is 125\n"
          ],
          "name": "stdout"
        }
      ]
    },
    {
      "cell_type": "markdown",
      "metadata": {
        "id": "tW65_zyDc1Wg"
      },
      "source": [
        "### 7.8 Scope of variables\n",
        "* Variables defined inside the function are known as Local variable\n",
        "\n",
        "* Global varaibles can be accessed anywhere in the script unlike local variable who's scope is defined within the function only. \n",
        "\n",
        "**EXAMPLE**"
      ]
    },
    {
      "cell_type": "code",
      "metadata": {
        "id": "oRjEhhrack15",
        "colab": {
          "base_uri": "https://localhost:8080/",
          "height": 53
        },
        "outputId": "56b9f9cf-2cd8-40e7-c13f-3277d307c1b4"
      },
      "source": [
        "result = 0 # outside the scope of function\n",
        "\n",
        "def divide(numerator, denominator):\n",
        "    result = numerator//denominator # result inside the scope of function\n",
        "    print(f\"result after division inside the function: {result}\")\n",
        "\n",
        "numerator = 625\n",
        "denominator = 5\n",
        "divide(numerator, denominator)\n",
        "\n",
        "print(f\"result after division outside the function: {result}\")"
      ],
      "execution_count": null,
      "outputs": [
        {
          "output_type": "stream",
          "text": [
            "result after division inside the function: 125\n",
            "result after division outside the function: 0\n"
          ],
          "name": "stdout"
        }
      ]
    },
    {
      "cell_type": "markdown",
      "metadata": {
        "id": "_97TSpl0f-FO"
      },
      "source": [
        "### 7.9 Docstring\n",
        "\n",
        "```python\n",
        "def function():\n",
        "    \"\"\"\n",
        "    This is docstring of the function.\n",
        "    \"\"\"\n",
        "    pass\n",
        "```\n",
        "**EXAMPLE**"
      ]
    },
    {
      "cell_type": "code",
      "metadata": {
        "id": "Nx8xFCzHgLng",
        "colab": {
          "base_uri": "https://localhost:8080/",
          "height": 35
        },
        "outputId": "6c170cd4-b2de-42b4-8f9c-ff4105fba9a2"
      },
      "source": [
        "def find_power(number, power):\n",
        "    \"\"\"This function returns the power of the number\n",
        "\n",
        "    Args:\n",
        "        number (int): insert any integer value\n",
        "        power (int): insert any integer value\n",
        "\n",
        "    Returns:\n",
        "        integer: power of number\n",
        "    \"\"\"\n",
        "    return number**power\n",
        "\n",
        "number = 5\n",
        "power = 3\n",
        "result = find_power(number, power)\n",
        "\n",
        "print(f\"{number} to the power of {power} is {result}\")"
      ],
      "execution_count": null,
      "outputs": [
        {
          "output_type": "stream",
          "text": [
            "5 to the power of 3 is 125\n"
          ],
          "name": "stdout"
        }
      ]
    },
    {
      "cell_type": "code",
      "metadata": {
        "id": "MfrP3JG4heUu",
        "colab": {
          "base_uri": "https://localhost:8080/",
          "height": 233
        },
        "outputId": "3b377e1a-b950-44ee-99b8-61cd1b6c3bf0"
      },
      "source": [
        "# This prints the docstring.\n",
        "# Its very good practice to write the docstring of very important function\n",
        "# It imroves code readabilty\n",
        "help(find_power)"
      ],
      "execution_count": null,
      "outputs": [
        {
          "output_type": "stream",
          "text": [
            "Help on function find_power in module __main__:\n",
            "\n",
            "find_power(number, power)\n",
            "    This function returns the power of the number\n",
            "    \n",
            "    Args:\n",
            "        number (int): insert any integer value\n",
            "        power (int): insert any integer value\n",
            "    \n",
            "    Returns:\n",
            "        integer: power of number\n",
            "\n"
          ],
          "name": "stdout"
        }
      ]
    }
  ]
}